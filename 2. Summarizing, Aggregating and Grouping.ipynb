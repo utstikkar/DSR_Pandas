{
 "cells": [
  {
   "cell_type": "code",
   "execution_count": 1,
   "metadata": {},
   "outputs": [],
   "source": [
    "import pandas as pd\n",
    "import numpy as np"
   ]
  },
  {
   "cell_type": "markdown",
   "metadata": {},
   "source": [
    "# Summarizing, Aggregating & Grouping\n",
    "Knowing how to use pandas aggregation & grouping functions lets us reduce the dimensionality of our data and visualize it in different ways (most often over the rows - aka `axis=0`).  \n",
    "\n",
    "For completeness, `axis=1` refers to the columns."
   ]
  },
  {
   "cell_type": "code",
   "execution_count": 2,
   "metadata": {},
   "outputs": [],
   "source": [
    "wine = pd.read_csv('./data/wine_reviews/winemag-data_first150k.csv', index_col=0)"
   ]
  },
  {
   "cell_type": "markdown",
   "metadata": {},
   "source": [
    "## Initial quick analysis using pandas\n",
    "Pandas has multiple built-in functions that make it easy to quickly see what's in your dataframe. \n",
    "You can build them with the selecting tools you used before."
   ]
  },
  {
   "cell_type": "markdown",
   "metadata": {},
   "source": [
    "Here, we will select a column, and then see how pandas lets us quickly analyse it.\n",
    "\n",
    "To quickly see which columns our wine dataset has, we can use the .columns attribute."
   ]
  },
  {
   "cell_type": "code",
   "execution_count": null,
   "metadata": {},
   "outputs": [],
   "source": [
    "wine.columns"
   ]
  },
  {
   "cell_type": "markdown",
   "metadata": {},
   "source": [
    "Let's select price."
   ]
  },
  {
   "cell_type": "code",
   "execution_count": null,
   "metadata": {},
   "outputs": [],
   "source": [
    "wine.loc[:, 'price']"
   ]
  },
  {
   "cell_type": "markdown",
   "metadata": {},
   "source": [
    "We can quickly see some metrics of the price, using some built-in aggregating functions in pandas."
   ]
  },
  {
   "cell_type": "code",
   "execution_count": null,
   "metadata": {},
   "outputs": [],
   "source": [
    "print('Average wine price: ', wine.loc[:, 'price'].mean())\n",
    "print('Min wine price: ', wine.loc[:, 'price'].min())\n",
    "print('Median wine price: ', wine.loc[:, 'price'].median())\n",
    "print('Max wine price: ', wine.loc[:, 'price'].max())"
   ]
  },
  {
   "cell_type": "markdown",
   "metadata": {},
   "source": [
    "And some more advanced metrics...\n",
    "\n",
    "We can see how many times each country appears in the datast (called a value count)"
   ]
  },
  {
   "cell_type": "code",
   "execution_count": null,
   "metadata": {
    "scrolled": true
   },
   "outputs": [],
   "source": [
    "wine.loc[:, 'country'].value_counts().sort_index()"
   ]
  },
  {
   "cell_type": "markdown",
   "metadata": {},
   "source": [
    "What if we want to see this list in the opposite order?"
   ]
  },
  {
   "cell_type": "code",
   "execution_count": null,
   "metadata": {
    "scrolled": true
   },
   "outputs": [],
   "source": [
    "wine.loc[:, 'country'].value_counts().sort_values(ascending=True)"
   ]
  },
  {
   "cell_type": "markdown",
   "metadata": {},
   "source": [
    "This list is too long. What if we only want to see the top 10 countries?\n",
    "We can string together the other selectors we learned before!\n",
    "\n",
    "Can you think of another way to get the top 10 rows?"
   ]
  },
  {
   "cell_type": "code",
   "execution_count": null,
   "metadata": {},
   "outputs": [],
   "source": [
    "wine.loc[:, 'country'].value_counts().head(10)"
   ]
  },
  {
   "cell_type": "code",
   "execution_count": null,
   "metadata": {},
   "outputs": [],
   "source": [
    "wine.loc[:, 'country'].value_counts().iloc[:10]"
   ]
  },
  {
   "cell_type": "markdown",
   "metadata": {},
   "source": [
    "What's the difference between `.value_counts()` and `.count()`?"
   ]
  },
  {
   "cell_type": "code",
   "execution_count": null,
   "metadata": {},
   "outputs": [],
   "source": [
    "wine.loc[:, 'country'].count()"
   ]
  },
  {
   "cell_type": "markdown",
   "metadata": {},
   "source": [
    "What if we just want to know how many countries are on the list?"
   ]
  },
  {
   "cell_type": "code",
   "execution_count": null,
   "metadata": {},
   "outputs": [],
   "source": [
    "# Number of non-null unique values\n",
    "wine.loc[:, 'country'].nunique()"
   ]
  },
  {
   "cell_type": "markdown",
   "metadata": {},
   "source": [
    "And if we want a list of them? \n",
    "(This isn't a pandas thing, but is still super useful:)"
   ]
  },
  {
   "cell_type": "code",
   "execution_count": null,
   "metadata": {},
   "outputs": [],
   "source": [
    "# Gives all unique values\n",
    "set(wine['country'])"
   ]
  },
  {
   "cell_type": "markdown",
   "metadata": {},
   "source": [
    "You can look [here](https://www.shanelynn.ie/summarising-aggregation-and-grouping-data-in-python-pandas/) for a list of all the built-in pandas stats."
   ]
  },
  {
   "cell_type": "markdown",
   "metadata": {},
   "source": [
    "Remember, for quick calculation of summary statistics we can use `df.describe()`. This quickly calculates some of these stats for the numeric columns in the df."
   ]
  },
  {
   "cell_type": "code",
   "execution_count": null,
   "metadata": {},
   "outputs": [],
   "source": [
    "wine.describe()"
   ]
  },
  {
   "cell_type": "markdown",
   "metadata": {},
   "source": [
    "**Question**: Why are only 2 of the columns included?"
   ]
  },
  {
   "cell_type": "code",
   "execution_count": null,
   "metadata": {},
   "outputs": [],
   "source": []
  },
  {
   "cell_type": "markdown",
   "metadata": {},
   "source": [
    "### Conditional Selections \n",
    "We can use conditional selections to narrow our analysis even further.\n",
    "\n",
    "DON'T FORGET - to make things easier, we can save selections we plan to use often as their own variables."
   ]
  },
  {
   "cell_type": "code",
   "execution_count": 14,
   "metadata": {},
   "outputs": [],
   "source": [
    "us = wine.loc[wine.loc[:, 'country']=='US']\n",
    "france = wine.loc[wine.loc[:, 'country']=='France']"
   ]
  },
  {
   "cell_type": "markdown",
   "metadata": {},
   "source": [
    "Let's compare the difference in average price between US wines, French wines, and all the wines in our complete dataset."
   ]
  },
  {
   "cell_type": "code",
   "execution_count": null,
   "metadata": {},
   "outputs": [],
   "source": [
    "# calculating average wine prices \n",
    "avg_us_price = round(us.loc[:, 'price'].mean(),2)\n",
    "avg_french_price = round(france.loc[:, 'price'].mean(),2)\n",
    "avg_overall_price = round(wine.loc[:, 'price'].mean(),2)\n",
    "\n",
    "# printing prices\n",
    "\n",
    "print('Mean American wine price: $', avg_us_price)\n",
    "print('Mean French wine price: $', avg_french_price)\n",
    "print('Mean overall wine price is: $', avg_overall_price)"
   ]
  },
  {
   "cell_type": "markdown",
   "metadata": {},
   "source": [
    "We can then use these to calculate more targeted metrics."
   ]
  },
  {
   "cell_type": "code",
   "execution_count": null,
   "metadata": {},
   "outputs": [],
   "source": [
    "print('French wine is ${} more expensive on average'.format(round(avg_french_price - avg_overall_price), 2))"
   ]
  },
  {
   "cell_type": "markdown",
   "metadata": {},
   "source": [
    "#### More advanced conditionals: Using masks\n",
    "What if we want to filter on more than one criteria? \n",
    "\n",
    "When you want to filter on >1 criteria, it can be easier to use a mask.\n",
    "\n",
    "How many wines from North America do we have on our list?"
   ]
  },
  {
   "cell_type": "code",
   "execution_count": 17,
   "metadata": {},
   "outputs": [],
   "source": [
    "na_mask = (wine.country == 'US') | (wine.country == 'Mexico') | (wine.country == 'Canada') \n",
    "na_indexes = wine.index[na_mask]\n",
    "na = wine.loc[na_indexes]\n",
    "# or\n",
    "na_1 = na.loc[na_mask]"
   ]
  },
  {
   "cell_type": "code",
   "execution_count": null,
   "metadata": {},
   "outputs": [],
   "source": [
    "na.head()"
   ]
  },
  {
   "cell_type": "code",
   "execution_count": null,
   "metadata": {},
   "outputs": [],
   "source": [
    "na_1.head()"
   ]
  },
  {
   "cell_type": "markdown",
   "metadata": {},
   "source": [
    "How many wines do we have total in the in North America?"
   ]
  },
  {
   "cell_type": "code",
   "execution_count": null,
   "metadata": {},
   "outputs": [],
   "source": [
    "# taking one of the columns that had no null values to get \"real\" count\n",
    "na.count()['description']"
   ]
  },
  {
   "cell_type": "markdown",
   "metadata": {},
   "source": [
    "**Question**: How many of the wines belong to each country?\n",
    "\n"
   ]
  },
  {
   "cell_type": "code",
   "execution_count": null,
   "metadata": {},
   "outputs": [],
   "source": [
    "na.loc[:, \"country\"].value_counts()"
   ]
  },
  {
   "cell_type": "markdown",
   "metadata": {},
   "source": [
    "**Question**: From which US state do most of our wines come?"
   ]
  },
  {
   "cell_type": "code",
   "execution_count": null,
   "metadata": {},
   "outputs": [],
   "source": [
    "us.loc[:, \"province\"].value_counts().sort_values(ascending=False).head(1)"
   ]
  },
  {
   "cell_type": "markdown",
   "metadata": {},
   "source": [
    "## Groupby\n",
    "One of the most flexible ways to aggregate in pandas is with .groupby() .\n",
    "We will look at how this works for categorical datasets like this one, and also for datetime datasets, as dealing with datetimes in pandas can be tricky."
   ]
  },
  {
   "cell_type": "code",
   "execution_count": 23,
   "metadata": {},
   "outputs": [],
   "source": [
    "import matplotlib.pyplot as plt\n",
    "%matplotlib inline"
   ]
  },
  {
   "cell_type": "markdown",
   "metadata": {},
   "source": [
    "### How Groupby Works:\n",
    "You can group your data in many different ways, and also aggregate it by any of the aggregators we saw before: like mean, mode, sum, etc.\n",
    "\n",
    "**The column that you put in the parentheses of the groupby function call will become your new index in the dataframe that is returned by groupby!!**\n",
    "\n",
    "For example, in `wine.groupby('country')`, `country` will bee the new index. Let's see how this looks in practice:"
   ]
  },
  {
   "cell_type": "code",
   "execution_count": null,
   "metadata": {
    "scrolled": true
   },
   "outputs": [],
   "source": [
    "wine.groupby('country').mean().sort_values(by=['points','price'], ascending=False)"
   ]
  },
  {
   "cell_type": "markdown",
   "metadata": {},
   "source": [
    "So, British wine is the highest average ranked?? This is surprising. Maybe we need to look at our data in a different way."
   ]
  },
  {
   "cell_type": "markdown",
   "metadata": {},
   "source": [
    "The beauty of `df.groupby()` is that it lets you aggregate different columns in different ways.\n",
    "\n",
    "Say we want to know the average price of wine in each country, but the _highest_ score:"
   ]
  },
  {
   "cell_type": "code",
   "execution_count": null,
   "metadata": {
    "scrolled": true
   },
   "outputs": [],
   "source": [
    "wine.groupby('country').agg({'points':'max', 'price':'mean'})\\\n",
    "    .sort_values(by=['points','price'], ascending=[False, True]).head()"
   ]
  },
  {
   "attachments": {},
   "cell_type": "markdown",
   "metadata": {},
   "source": [
    "**Tip:** Sometimes, to make your code cleaner it's best to move the aggregations out and store them in their own variable that you can update saparately."
   ]
  },
  {
   "cell_type": "code",
   "execution_count": null,
   "metadata": {},
   "outputs": [],
   "source": [
    "aggs = {\n",
    "    'price': 'mean',\n",
    "    'points': 'max'\n",
    "}\n",
    "\n",
    "wine.groupby('country').agg(aggs).sort_values(by=['points','price'], ascending =[False, True]).head()"
   ]
  },
  {
   "cell_type": "markdown",
   "metadata": {},
   "source": [
    "You can also use a list in your aggs to aggergate one column in different ways.\n",
    "\n",
    "This will give a **multi-index**. Multi-indexes can be difficult to sort on. But, there are a few different ways we can deal with this."
   ]
  },
  {
   "cell_type": "code",
   "execution_count": null,
   "metadata": {
    "scrolled": true
   },
   "outputs": [],
   "source": [
    "aggs = {\n",
    "    'price': ['min', 'mean', 'max', 'std']\n",
    "}\n",
    "\n",
    "price_table = wine.groupby('country').agg(aggs)\n",
    "price_table"
   ]
  },
  {
   "cell_type": "markdown",
   "metadata": {},
   "source": [
    "One way is by dropping the top level ('price'):"
   ]
  },
  {
   "cell_type": "code",
   "execution_count": null,
   "metadata": {
    "scrolled": true
   },
   "outputs": [],
   "source": [
    "price_table.columns = price_table.columns.droplevel(level=0)\n",
    "\n",
    "# now, we can sort by any of the columns. Here, by average price.\n",
    "price_table.sort_values(by='mean', ascending=False).head()"
   ]
  },
  {
   "cell_type": "markdown",
   "metadata": {},
   "source": [
    "Another way is by using `np.ravel()` . This preserves the \"price\" indicator somewhere in each of the column names."
   ]
  },
  {
   "cell_type": "code",
   "execution_count": null,
   "metadata": {},
   "outputs": [],
   "source": [
    "# resetting the price table, so that it again has a multi-index\n",
    "price_table = wine.groupby('country').agg(aggs)\n",
    "\n",
    "price_table.head()"
   ]
  },
  {
   "cell_type": "code",
   "execution_count": null,
   "metadata": {},
   "outputs": [],
   "source": [
    "# seeing how the column names are multi-index\n",
    "price_table.columns"
   ]
  },
  {
   "cell_type": "code",
   "execution_count": null,
   "metadata": {},
   "outputs": [],
   "source": [
    "# Using ravel, and a string join, we can create better names for the columns:\n",
    "\n",
    "price_table.columns = [\"_\".join(x) for x in price_table.columns.ravel()]\n",
    "price_table.sort_values(by='price_mean', ascending=False).head()"
   ]
  },
  {
   "cell_type": "markdown",
   "metadata": {},
   "source": [
    "**Question**: Create a quick plot of the number of wines made in each country, from highest to lowest."
   ]
  },
  {
   "cell_type": "code",
   "execution_count": null,
   "metadata": {},
   "outputs": [],
   "source": [
    "wine.loc[:, 'country'].value_counts().plot(kind='bar', figsize=(10,7))\n",
    "plt.show()"
   ]
  },
  {
   "cell_type": "markdown",
   "metadata": {},
   "source": [
    "## Selecting the max and min values with Index Max and Min\n",
    "In addition to `.max()` and `.min()`, which returns the maximum or minimum values, we can use `.idxmax()` and `.idxmin()` to return the *index* pertaining to the maximum and minimum values. \n",
    "\n",
    "For example, let's use `.idxmax()` to find the country with the highest standard deviation in its prices."
   ]
  },
  {
   "cell_type": "code",
   "execution_count": null,
   "metadata": {},
   "outputs": [],
   "source": [
    "price_table.loc[:, 'price_std'].idxmax()"
   ]
  },
  {
   "cell_type": "code",
   "execution_count": null,
   "metadata": {},
   "outputs": [],
   "source": [
    "# looking at the actual standard deviation \n",
    "price_table.loc[:, 'price_std'].max()"
   ]
  },
  {
   "cell_type": "markdown",
   "metadata": {},
   "source": [
    "# Dealing with datetime in Pandas\n",
    "Pandas built off the datetime package in Python to offer a datetime index, and plenty of ways to work with this.\n",
    "However, it is still far from intuitive. \n",
    "That doesn't mean it's not useful, and for anyone doing a timeseries project, you'll need to deal with dates and times in pandas often.\n",
    "\n",
    "Let's load a sample dataset of datetime energy data and get started!"
   ]
  },
  {
   "cell_type": "code",
   "execution_count": 38,
   "metadata": {},
   "outputs": [],
   "source": [
    "energy = pd.read_csv('./data/energy/PJM_Load_hourly.csv', parse_dates=True, index_col=0)"
   ]
  },
  {
   "cell_type": "markdown",
   "metadata": {},
   "source": [
    "Note that this data has a DateTimeIndex. \n",
    "setting `parse_dates=True` when we read the CSV lets pandas infer this datetimeindex."
   ]
  },
  {
   "cell_type": "code",
   "execution_count": null,
   "metadata": {},
   "outputs": [],
   "source": [
    "energy.index"
   ]
  },
  {
   "cell_type": "markdown",
   "metadata": {},
   "source": [
    "We can select data points within a specific time range, using the DateTimeIndex and .loc.\n",
    "Here, we select the first one day of data."
   ]
  },
  {
   "cell_type": "code",
   "execution_count": null,
   "metadata": {},
   "outputs": [],
   "source": [
    "energy.loc['1998-12-31 01:00:00':'1999-01-01 00:00:00']"
   ]
  },
  {
   "cell_type": "code",
   "execution_count": null,
   "metadata": {},
   "outputs": [],
   "source": [
    "# One record for each hour of this day.\n",
    "energy.loc['1998-12-31 01:00:00':'1999-01-01 00:00:00', :].shape[0]"
   ]
  },
  {
   "cell_type": "markdown",
   "metadata": {},
   "source": [
    "## Selecting with boolean indexing on pandas datetimeindex\n",
    "We can use .dot notation with parts of the date to select on specific parts of the datetime, like days or months.\n",
    "\n",
    "This is because pandas datetime indexes are datetime objects under the hood.\n",
    "\n",
    "Let's look more closely at datetime objects in python."
   ]
  },
  {
   "cell_type": "markdown",
   "metadata": {},
   "source": [
    "Python datetime functionality example:"
   ]
  },
  {
   "cell_type": "code",
   "execution_count": 42,
   "metadata": {},
   "outputs": [],
   "source": [
    "from datetime import datetime"
   ]
  },
  {
   "cell_type": "markdown",
   "metadata": {},
   "source": [
    "We will start with a string of a date, and save this string in a variable called `s`."
   ]
  },
  {
   "cell_type": "code",
   "execution_count": 43,
   "metadata": {},
   "outputs": [],
   "source": [
    "s = \"8 March, 2017\""
   ]
  },
  {
   "cell_type": "markdown",
   "metadata": {},
   "source": [
    "Using a datetime function called `datetime.strptime()`, we can \"extract\" the date elements from this string.\n",
    "\n",
    "We do this by giving formatting indicators as to where in the string the various datetime elements are located. The format indicator `%d` denotes an integer day, `%B` denotes a long-form month written in English, and `%Y` denotes a 4-digit year.\n",
    "\n",
    "You can find more datetime format indicators in python [here](https://mkaz.blog/code/python-dates/) (under \"Datetime Format Table\").\n",
    "\n",
    "\n",
    "Using the `.strptime()` function returns a **datetime object**, with the parts of the datetime contained in order from lowest time-granularity to highest (year --> seconds)"
   ]
  },
  {
   "cell_type": "code",
   "execution_count": null,
   "metadata": {},
   "outputs": [],
   "source": [
    "d = datetime.strptime(s, '%d %B, %Y')\n",
    "d"
   ]
  },
  {
   "cell_type": "markdown",
   "metadata": {},
   "source": [
    "As mentioned before, we can access particular parts of this datetime object using dot notation (as they are stored as attributes of the object)"
   ]
  },
  {
   "cell_type": "code",
   "execution_count": null,
   "metadata": {},
   "outputs": [],
   "source": [
    "d.month"
   ]
  },
  {
   "cell_type": "markdown",
   "metadata": {},
   "source": [
    "We can then use a second function from datetime, called `strftime()`, to convert this datetime object back to a string. Here, we have to specify the new string format we would like the new date string to have."
   ]
  },
  {
   "cell_type": "code",
   "execution_count": null,
   "metadata": {},
   "outputs": [],
   "source": [
    "new_s = d.strftime('%Y-%m-%d')\n",
    "print(new_s)"
   ]
  },
  {
   "cell_type": "markdown",
   "metadata": {},
   "source": [
    "Now that we know about the various parts of a datetime object, we can use them to filter conditionally on the datetime object."
   ]
  },
  {
   "cell_type": "code",
   "execution_count": 47,
   "metadata": {
    "scrolled": true
   },
   "outputs": [],
   "source": [
    "# making a new DF that only includes the month of septmeber from each year.\n",
    "septembers = energy.loc[energy.index.month == 9]"
   ]
  },
  {
   "cell_type": "markdown",
   "metadata": {},
   "source": [
    "We can also call just a date, and get all the hours/time periods in that day:"
   ]
  },
  {
   "cell_type": "code",
   "execution_count": null,
   "metadata": {
    "scrolled": true
   },
   "outputs": [],
   "source": [
    "energy.loc['2000-01-03']"
   ]
  },
  {
   "cell_type": "markdown",
   "metadata": {},
   "source": [
    "Same with for a year and month:"
   ]
  },
  {
   "cell_type": "code",
   "execution_count": null,
   "metadata": {},
   "outputs": [],
   "source": [
    "energy.loc['2000-01'].shape"
   ]
  },
  {
   "cell_type": "code",
   "execution_count": null,
   "metadata": {},
   "outputs": [],
   "source": [
    "# We see that it includes one record for each our of each day of the month of January, which has 31 days\n",
    "31*24"
   ]
  },
  {
   "cell_type": "code",
   "execution_count": 51,
   "metadata": {},
   "outputs": [],
   "source": [
    "# or better, with an assert statement:\n",
    "month_jan = energy.loc['2000-01']\n",
    "\n",
    "# assert passes silently, meaning it is True\n",
    "assert month_jan.shape[0] == 31*24"
   ]
  },
  {
   "cell_type": "markdown",
   "metadata": {},
   "source": [
    "## Resampling\n",
    "We can also combine the data in different ways, and over different time periods.\n",
    "This means that just because our data is in hourly time periods, we dont have to keep it that way. "
   ]
  },
  {
   "cell_type": "code",
   "execution_count": null,
   "metadata": {
    "scrolled": true
   },
   "outputs": [],
   "source": [
    "# We can get the average load over a day:\n",
    "daily_avg_energy = energy.resample('D').mean()\n",
    "daily_avg_energy.head()"
   ]
  },
  {
   "cell_type": "code",
   "execution_count": null,
   "metadata": {},
   "outputs": [],
   "source": [
    "# We can also get the total MWh used in a day:\n",
    "daily_energy = energy.resample('D').sum()\n",
    "# have to change unit from MW to MWh since summing changes measure from power to energy \n",
    "# more info on that here: https://energyeducation.ca/encyclopedia/Energy_vs_power\n",
    "daily_energy.columns = [\"PJM_Load_MWh\"]\n",
    "daily_energy.head()"
   ]
  },
  {
   "cell_type": "markdown",
   "metadata": {},
   "source": [
    "## Groupby with DateTimeIndex\n",
    "Using groupby with a pandas DateTimeIndex can be extremely useful and powerful.\n",
    "Let's look at how this can work."
   ]
  },
  {
   "cell_type": "code",
   "execution_count": null,
   "metadata": {},
   "outputs": [],
   "source": [
    "indexes = [energy.index.year,\n",
    "           energy.index.month,\n",
    "           energy.index.week,\n",
    "           energy.index.weekday,\n",
    "           energy.index.day]\n",
    "\n",
    "aggregated = energy.groupby(indexes).sum()"
   ]
  },
  {
   "cell_type": "code",
   "execution_count": null,
   "metadata": {},
   "outputs": [],
   "source": [
    "aggregated.head()"
   ]
  },
  {
   "cell_type": "markdown",
   "metadata": {},
   "source": [
    "The index level names are not particularly helpful here. We can change them."
   ]
  },
  {
   "cell_type": "code",
   "execution_count": 56,
   "metadata": {},
   "outputs": [],
   "source": [
    "# the long, ugly way\n",
    "aggregated.index.set_names('year', level=0, inplace=True)\n",
    "aggregated.index.set_names('month', level=1, inplace=True)\n",
    "aggregated.index.set_names('week', level=2, inplace=True)\n",
    "aggregated.index.set_names('weekday', level=3, inplace=True)\n",
    "aggregated.index.set_names('day', level=4, inplace=True)"
   ]
  },
  {
   "cell_type": "code",
   "execution_count": 57,
   "metadata": {},
   "outputs": [],
   "source": [
    "# resetting the df to get multi-index again\n",
    "aggregated = energy.groupby(indexes).sum()\n",
    "\n",
    "# the short, clean way. Both do the same thing.\n",
    "index_level_names = ['year', 'month', 'week', 'weekday', 'day']\n",
    "for i, index_level in enumerate(index_level_names):\n",
    "            aggregated.index.set_names(index_level, level=i, inplace=True)"
   ]
  },
  {
   "cell_type": "code",
   "execution_count": null,
   "metadata": {
    "scrolled": true
   },
   "outputs": [],
   "source": [
    "aggregated.head(10)"
   ]
  },
  {
   "cell_type": "markdown",
   "metadata": {},
   "source": [
    "## Selecting on Multi-Index: Using reset_index()\n",
    "Selecting via a multi-index is difficult. It is much easier to work with these as \"normal\" pandas DataFrame columns.\n",
    "\n",
    "To transform multi-indexes in to columns, we use `reset_index()`. Reset index pushes anything in the index into columns, and makes a new index with is simply an ascending count, starting at 0. "
   ]
  },
  {
   "cell_type": "code",
   "execution_count": null,
   "metadata": {},
   "outputs": [],
   "source": [
    "aggregated_new = aggregated.reset_index()\n",
    "aggregated_new.head()"
   ]
  },
  {
   "cell_type": "markdown",
   "metadata": {},
   "source": [
    "Here, we can select all rows that were in week 50 in any year."
   ]
  },
  {
   "cell_type": "code",
   "execution_count": null,
   "metadata": {},
   "outputs": [],
   "source": [
    "week_50 = aggregated_new.loc[aggregated_new['week']==50]\n",
    "week_50.head()"
   ]
  },
  {
   "cell_type": "markdown",
   "metadata": {},
   "source": [
    "## Exercise:\n",
    "\n",
    "- Find the day of the week that averages the highest consumption\n",
    "\n",
    "- Find the time of day that averages the lowest consumption.\n",
    "    - Has this changed over the years?\n",
    "    \n",
    "\n",
    "- Is average consumption rising, falling, or staying the same over the years?\n",
    "- What is the %age difference in consumption on average between April and June?"
   ]
  },
  {
   "cell_type": "markdown",
   "metadata": {},
   "source": [
    "- Find the day of the week that averages the highest consumption"
   ]
  },
  {
   "cell_type": "code",
   "execution_count": null,
   "metadata": {},
   "outputs": [],
   "source": []
  },
  {
   "cell_type": "markdown",
   "metadata": {},
   "source": [
    "- Find the time of day that averages the lowest consumption.\n",
    "    - Has this changed over the years?"
   ]
  },
  {
   "cell_type": "code",
   "execution_count": null,
   "metadata": {},
   "outputs": [],
   "source": []
  },
  {
   "cell_type": "code",
   "execution_count": null,
   "metadata": {},
   "outputs": [],
   "source": []
  },
  {
   "cell_type": "markdown",
   "metadata": {},
   "source": [
    "- Is average consumption rising, falling, or staying the same over the years?"
   ]
  },
  {
   "cell_type": "code",
   "execution_count": null,
   "metadata": {},
   "outputs": [],
   "source": []
  },
  {
   "cell_type": "markdown",
   "metadata": {},
   "source": [
    "- What is the %age difference in consumption on average between April and June?"
   ]
  },
  {
   "cell_type": "code",
   "execution_count": null,
   "metadata": {},
   "outputs": [],
   "source": []
  }
 ],
 "metadata": {
  "kernelspec": {
   "display_name": "python-classes",
   "language": "python",
   "name": "python3"
  },
  "language_info": {
   "codemirror_mode": {
    "name": "ipython",
    "version": 3
   },
   "file_extension": ".py",
   "mimetype": "text/x-python",
   "name": "python",
   "nbconvert_exporter": "python",
   "pygments_lexer": "ipython3",
   "version": "3.11.0"
  },
  "vscode": {
   "interpreter": {
    "hash": "33e49de180f7b68adbe0b8c3da4cce2849e5189a09c8fdb059671b22301aa1fe"
   }
  }
 },
 "nbformat": 4,
 "nbformat_minor": 4
}
