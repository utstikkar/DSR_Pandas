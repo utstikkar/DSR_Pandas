{
 "cells": [
  {
   "cell_type": "code",
   "execution_count": 1,
   "metadata": {},
   "outputs": [],
   "source": [
    "import pandas as pd"
   ]
  },
  {
   "cell_type": "markdown",
   "metadata": {},
   "source": [
    "## Joining and Concatenating Data\n",
    "\n",
    "Sometimes, we have several data sources which we liked to combine. This is done in pandas through mergers (similar to a join in SQL).\n",
    "\n",
    "In order to do a join, we need to have a common feature in each data set to join/(merge) data from various sources. We also have to decide on the way in which we will join/merge the data.\n",
    "\n",
    "<table><tr><td><img src='./pics/inner_join.PNG' width = 400></td><td><img src='pics/outer_join.PNG' width = 400></td></tr></table>\n",
    "<table><tr><td><img src='./pics/left_join.PNG' width = 400+></td><td><img src='pics/right_join.PNG' width = 400></td></tr></table>"
   ]
  },
  {
   "cell_type": "markdown",
   "metadata": {},
   "source": [
    "**Examples** \n",
    "\n",
    "**Inner Join** </br>\n",
    "<img src=\"./pics/inner_join example.PNG\" width = 400/>\n",
    "\n",
    "**Outer Join** </br>\n",
    "<img src=\"./pics/outer_join example.PNG\" width = 400/>\n",
    "\n",
    "**Left Join** </br>\n",
    "<img src=\"./pics/left_join example.PNG\" width = 400/>\n",
    "\n",
    "**Right Join** </br>\n",
    "<img src=\"./pics/right_join example.PNG\" width = 400/>\n",
    "\n"
   ]
  },
  {
   "cell_type": "markdown",
   "metadata": {},
   "source": [
    "### Let's do an example\n",
    "- two data sets (GDP, Population) from the World Bank"
   ]
  },
  {
   "cell_type": "code",
   "execution_count": 14,
   "metadata": {},
   "outputs": [],
   "source": [
    "# read in the datasets\n",
    "gdp = pd.read_csv(\"./data/worldbank/WorldBank_GDP.csv\")\n",
    "pop = pd.read_csv(\"./data/worldbank/WorldBank_POP.csv\")"
   ]
  },
  {
   "cell_type": "code",
   "execution_count": null,
   "metadata": {},
   "outputs": [],
   "source": [
    "gdp.head(10)"
   ]
  },
  {
   "cell_type": "code",
   "execution_count": null,
   "metadata": {},
   "outputs": [],
   "source": [
    "pop.head(10)"
   ]
  },
  {
   "cell_type": "markdown",
   "metadata": {},
   "source": [
    "Now, we will use `.merge()` to combine the 2 datasets. \n",
    "\n",
    "NOTE: We can specify more than one column on which to merge, if our datasets have 2+ columns in common"
   ]
  },
  {
   "cell_type": "code",
   "execution_count": null,
   "metadata": {},
   "outputs": [],
   "source": [
    "world_data = gdp.merge(pop, how=\"left\", on=[\"Country Name\", \"Year\"])\n",
    "\n",
    "world_data.head()"
   ]
  },
  {
   "cell_type": "markdown",
   "metadata": {},
   "source": [
    "Note how the columns that had the same name in the original data are now indicated with `_x` or `_y` at the end. X is for the left (first) original table, and y is for the right (second) original table."
   ]
  },
  {
   "cell_type": "markdown",
   "metadata": {},
   "source": [
    "Let's have a look at some additional parameters of merge.\n",
    "\n",
    "- e.g. suffixes, left_on, right_on\n",
    "\n",
    "<img src=\"./pics/pandas dataframe merge.PNG\" width = 600/>\n",
    "\n",
    "https://pandas.pydata.org/pandas-docs/stable/reference/api/pandas.DataFrame.merge.html"
   ]
  },
  {
   "cell_type": "markdown",
   "metadata": {},
   "source": [
    "Using the `suffixes=` parameter, we can change the default `_x` and `_y` suffixes."
   ]
  },
  {
   "cell_type": "code",
   "execution_count": null,
   "metadata": {},
   "outputs": [],
   "source": [
    "world_data = gdp.merge(pop, how=\"left\", on=[\"Country Name\", \"Year\"], suffixes=(\"_gdp\", \"_pop\"))\n",
    "\n",
    "world_data.head()"
   ]
  },
  {
   "cell_type": "markdown",
   "metadata": {},
   "source": [
    "**Relationship between two data sets**\n",
    "\n",
    "<img src=\"./pics/One-to-One Relationships.PNG\" width = 600/>\n",
    "\n",
    "\n",
    "<img src=\"./pics/One-to-Many Relationship.PNG\" width = 600/>"
   ]
  },
  {
   "cell_type": "markdown",
   "metadata": {},
   "source": [
    "## Concatenating two dataframes\n",
    "Concatenation is used when we want to add more data *with the exact same columns* to our existing dataframe. You can think of it as tacking on more rows to the original dataframe. \n"
   ]
  },
  {
   "cell_type": "markdown",
   "metadata": {},
   "source": [
    "<img src=\"./pics/concat.PNG\" width = 600/>"
   ]
  },
  {
   "cell_type": "markdown",
   "metadata": {},
   "source": [
    "**Example:**"
   ]
  },
  {
   "cell_type": "code",
   "execution_count": null,
   "metadata": {},
   "outputs": [],
   "source": [
    "# read in our data\n",
    "df = pd.read_csv(\"http://bit.ly/kaggletrain\")\n",
    "\n",
    "print(\"Shape of Original Dataframe: \" + str(df.shape))"
   ]
  },
  {
   "cell_type": "code",
   "execution_count": null,
   "metadata": {},
   "outputs": [],
   "source": [
    "df.head()"
   ]
  },
  {
   "cell_type": "markdown",
   "metadata": {},
   "source": [
    "Next, we split our original dataset into two smaller datasets, each with fewer rows."
   ]
  },
  {
   "cell_type": "code",
   "execution_count": null,
   "metadata": {},
   "outputs": [],
   "source": [
    "df1 = df.iloc[:400, :]\n",
    "df2 = df.iloc[400:, ]\n",
    "\n",
    "print(\"Shape of DF1: \" + str(df1.shape))\n",
    "print(\"Shape of DF2: \" + str(df2.shape))"
   ]
  },
  {
   "cell_type": "markdown",
   "metadata": {},
   "source": [
    "Finally, we use concat to stitch them back together."
   ]
  },
  {
   "cell_type": "code",
   "execution_count": null,
   "metadata": {},
   "outputs": [],
   "source": [
    "df_concat = pd.concat([df1, df2])\n",
    "print(\"Shape of df_concat: \" + str(df_concat.shape))"
   ]
  },
  {
   "cell_type": "code",
   "execution_count": null,
   "metadata": {},
   "outputs": [],
   "source": [
    "# checks if a Series/DataFrame when compared to each other are of the same shape and contain the same elements\n",
    "df_concat.equals(df)"
   ]
  },
  {
   "cell_type": "markdown",
   "metadata": {},
   "source": [
    "**Additional parameters in concat**"
   ]
  },
  {
   "cell_type": "markdown",
   "metadata": {},
   "source": [
    "<img src=\"./pics/pandas_concat.PNG\" width = 600/>\n",
    "\n",
    "https://pandas.pydata.org/pandas-docs/stable/reference/api/pandas.concat.html"
   ]
  },
  {
   "attachments": {},
   "cell_type": "markdown",
   "metadata": {},
   "source": [
    "Let's redo our example and add the `verify_integrity` parameter.\n",
    "\n",
    "Verify integrity checks for duplicates in the two dataframes"
   ]
  },
  {
   "cell_type": "code",
   "execution_count": 24,
   "metadata": {},
   "outputs": [],
   "source": [
    "df_concat = pd.concat([df1, df2], verify_integrity=True)"
   ]
  },
  {
   "cell_type": "markdown",
   "metadata": {},
   "source": [
    "**Let's create a dataframe with duplicats** -> we get an error that indicates where the duplicate is at"
   ]
  },
  {
   "cell_type": "code",
   "execution_count": null,
   "metadata": {},
   "outputs": [],
   "source": [
    "df1 = df.iloc[:400, :]\n",
    "df2 = df.iloc[399:, ]\n",
    "\n",
    "df_concat = pd.concat([df1, df2], verify_integrity=True)"
   ]
  }
 ],
 "metadata": {
  "kernelspec": {
   "display_name": "python-classes",
   "language": "python",
   "name": "python3"
  },
  "language_info": {
   "codemirror_mode": {
    "name": "ipython",
    "version": 3
   },
   "file_extension": ".py",
   "mimetype": "text/x-python",
   "name": "python",
   "nbconvert_exporter": "python",
   "pygments_lexer": "ipython3",
   "version": "3.11.0"
  },
  "vscode": {
   "interpreter": {
    "hash": "33e49de180f7b68adbe0b8c3da4cce2849e5189a09c8fdb059671b22301aa1fe"
   }
  }
 },
 "nbformat": 4,
 "nbformat_minor": 4
}
