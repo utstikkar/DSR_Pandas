{
 "cells": [
  {
   "attachments": {},
   "cell_type": "markdown",
   "metadata": {},
   "source": [
    "# What is Pandas?\n",
    "\n",
    "Pandas is a [package](https://data36.com/python-import-built-in-modules-data-science/) in Python, used for data formatting, analysis and manipulation. It gives you a way to deal with 2-D data structures (like SQL or Excel tables) in Python, which isn't \"native\" to the language. That's why we have to `import` the package. If you have Conda, you've already downloaded Pandas, we don't have to download it. By `import`-ing the package, we just allow the current .py or .ipynb file we're working on to use the functionality of the package.\n",
    "\n",
    "### Why pandas?\n",
    "- 2-D table-like data structures are intuitively known to us. Everyone is used to seeing Excel tables and this feels comfortable to work with. It is also what business people and other stakeholders will be used to seeing.\n",
    "- It's one of the quickest ways to \"automate the boring stuff\" and lets you add value to any team quickly. \n",
    "- It plays well with other packages & libraries like `scikit-learn` and `matplotlib`.\n",
    "- Excellent tools for transforming & cleaning data (i.e. resampling, filling missing values).\n",
    "- Sits on top oy `numpy` - which can be fast if you vectorize calculations.\n",
    "\n",
    "[For reference, you can use this great pandas cheat sheet](https://github.com/pandas-dev/pandas/blob/master/doc/cheatsheet/Pandas_Cheat_Sheet.pdf)."
   ]
  },
  {
   "cell_type": "markdown",
   "metadata": {},
   "source": [
    "### When Pandas?\n",
    "\n",
    "In other iterations of this course, participants asked where Pandas fits in the DS/ML pipeline. Let's focus on that!"
   ]
  },
  {
   "cell_type": "markdown",
   "metadata": {},
   "source": [
    "<img src=\"../pics/ds_path.png\">"
   ]
  },
  {
   "cell_type": "markdown",
   "metadata": {},
   "source": [
    "[source](https://towardsdatascience.com/how-it-feels-to-learn-data-science-in-2019-6ee688498029)"
   ]
  },
  {
   "cell_type": "markdown",
   "metadata": {},
   "source": [
    "<img src=\"../pics/ds_pipeline.png\">"
   ]
  },
  {
   "cell_type": "markdown",
   "metadata": {},
   "source": [
    "[source](https://medium.com/dunder-data/how-to-learn-pandas-108905ab4955)"
   ]
  },
  {
   "cell_type": "code",
   "execution_count": 1,
   "metadata": {
    "tags": []
   },
   "outputs": [],
   "source": [
    "import pandas as pd"
   ]
  },
  {
   "cell_type": "code",
   "execution_count": null,
   "metadata": {},
   "outputs": [],
   "source": [
    "pd.__version__"
   ]
  },
  {
   "cell_type": "markdown",
   "metadata": {},
   "source": [
    "## Python data types\n",
    "\n",
    "A quick review of the basic data structures in Python:"
   ]
  },
  {
   "cell_type": "code",
   "execution_count": null,
   "metadata": {},
   "outputs": [],
   "source": [
    "#float\n",
    "float(16)"
   ]
  },
  {
   "cell_type": "code",
   "execution_count": null,
   "metadata": {},
   "outputs": [],
   "source": [
    "#int\n",
    "int(16)"
   ]
  },
  {
   "cell_type": "code",
   "execution_count": null,
   "metadata": {},
   "outputs": [],
   "source": [
    "#str\n",
    "str(16)"
   ]
  },
  {
   "cell_type": "code",
   "execution_count": null,
   "metadata": {},
   "outputs": [],
   "source": [
    "#bool\n",
    "bool(16)"
   ]
  },
  {
   "cell_type": "code",
   "execution_count": null,
   "metadata": {},
   "outputs": [],
   "source": [
    "#bool\n",
    "bool(0)"
   ]
  },
  {
   "cell_type": "code",
   "execution_count": null,
   "metadata": {},
   "outputs": [],
   "source": [
    "#bool\n",
    "bool(None)"
   ]
  },
  {
   "cell_type": "markdown",
   "metadata": {},
   "source": [
    "## Pandas Data Types\n",
    "\n",
    "Pandas has 2 main data structures:\n",
    "\n",
    "- pd.Series:\n",
    "    - 1-D data structure. Different from a numpy array in that each value has a unique ID.\n",
    "    \n",
    "\n",
    "- pd.DataFrame:\n",
    "    - 2(+)-D data structure (better known as a table w/ named columns & numbered rows).\n",
    "    \n",
    "Here, we will focus on DataFrames:\n",
    "- if you can do something in 2-D, you can also probably do it in 1-D.\n",
    "- 2(+)-D data structures are much more useful to know how to work with in data science (you can't train a model with only 1 single array of data)\n",
    "- the API between the Series can differ slightly (i.e. `pd.Series.name` vs `pd.DataFrame.columns`)"
   ]
  },
  {
   "cell_type": "markdown",
   "metadata": {},
   "source": [
    "### Importing a DataFrame\n",
    "Throughout this tutorial, we will use practice data sets. Here, we use a dataset of wine reviews.  \n",
    "\n",
    "We use the read_csv function to load data from a csv file into a DataFrame:"
   ]
  },
  {
   "cell_type": "code",
   "execution_count": 39,
   "metadata": {
    "tags": []
   },
   "outputs": [],
   "source": [
    "wine = pd.read_csv('data/wine_reviews/winemag-data_first150k.csv', index_col=0)"
   ]
  },
  {
   "cell_type": "markdown",
   "metadata": {},
   "source": [
    "### Quickly viewing data\n",
    "\n",
    "The DataFrame is a Python object, with useful methods (i.e. functions) and attributes (often referring to simpler Python data types like floats or tuples).  \n",
    "\n",
    "You can tell if it is a method by `()` at the end.  A method will run code - an attribute will refer to data that already exists (most of the time - see the `@property` decorator for more).\n",
    "\n",
    "df - calling the DataFrame without any method or attribute reference will print the `__repr__` method of the class.  For a DataFrame, the Pandas developers chose to print the entire DataFrame (or, up to a set number of row - you can configure this number in the notebook settings.)"
   ]
  },
  {
   "cell_type": "code",
   "execution_count": null,
   "metadata": {},
   "outputs": [],
   "source": [
    "wine"
   ]
  },
  {
   "cell_type": "markdown",
   "metadata": {},
   "source": [
    "df.head() - shows first n rows (5 by default) _in order imported_! This is important as it is not sorted. So, the first row you see may not be the \"actual\" first row, or the first row you expect to see."
   ]
  },
  {
   "cell_type": "code",
   "execution_count": null,
   "metadata": {},
   "outputs": [],
   "source": [
    "wine.head()"
   ]
  },
  {
   "cell_type": "markdown",
   "metadata": {},
   "source": [
    "df.tail() - shows last n rows in order of imported (below we limit it to three)"
   ]
  },
  {
   "cell_type": "code",
   "execution_count": null,
   "metadata": {},
   "outputs": [],
   "source": [
    "wine.tail(3)"
   ]
  },
  {
   "cell_type": "markdown",
   "metadata": {},
   "source": [
    "df.shape - shows number of (rows, columns)"
   ]
  },
  {
   "cell_type": "code",
   "execution_count": null,
   "metadata": {},
   "outputs": [],
   "source": [
    "wine.shape"
   ]
  },
  {
   "cell_type": "markdown",
   "metadata": {},
   "source": [
    "df.shape returns a tuple. We can use tuple indexes to quickly access just one of these.\n",
    "**How many rows does our data have?**"
   ]
  },
  {
   "cell_type": "code",
   "execution_count": null,
   "metadata": {},
   "outputs": [],
   "source": [
    "wine.shape[0]"
   ]
  },
  {
   "cell_type": "markdown",
   "metadata": {},
   "source": [
    "We can also quickly look at the data types of each of our columns:\n",
    "- each column has a single data type (due to the data being represented as numpy arrays\n",
    "- pandas has figured out some of our columns dtypes for us"
   ]
  },
  {
   "cell_type": "code",
   "execution_count": null,
   "metadata": {},
   "outputs": [],
   "source": [
    "wine.dtypes"
   ]
  },
  {
   "cell_type": "markdown",
   "metadata": {},
   "source": [
    "Also useful is df.describe() - a method which generates summary statistics of the columns:"
   ]
  },
  {
   "cell_type": "code",
   "execution_count": null,
   "metadata": {},
   "outputs": [],
   "source": [
    "wine.describe()"
   ]
  },
  {
   "cell_type": "markdown",
   "metadata": {},
   "source": [
    "## What is a DataFrame made of?"
   ]
  },
  {
   "cell_type": "markdown",
   "metadata": {},
   "source": [
    "Column names:"
   ]
  },
  {
   "cell_type": "code",
   "execution_count": null,
   "metadata": {},
   "outputs": [],
   "source": [
    "wine.columns"
   ]
  },
  {
   "cell_type": "markdown",
   "metadata": {},
   "source": [
    "An index (similar to a primary key in SQL), NOTE: an index in pandas does NOT have to be unique!! This is a major difference between the index in pandas and a primary key in SQL."
   ]
  },
  {
   "cell_type": "code",
   "execution_count": null,
   "metadata": {},
   "outputs": [],
   "source": [
    "wine.index"
   ]
  },
  {
   "cell_type": "markdown",
   "metadata": {},
   "source": [
    "And data (stored in a `numpy` array):"
   ]
  },
  {
   "cell_type": "code",
   "execution_count": null,
   "metadata": {},
   "outputs": [],
   "source": [
    "wine.values"
   ]
  },
  {
   "cell_type": "code",
   "execution_count": null,
   "metadata": {},
   "outputs": [],
   "source": [
    "# getting just top row\n",
    "wine.values[0]"
   ]
  },
  {
   "cell_type": "code",
   "execution_count": null,
   "metadata": {},
   "outputs": [],
   "source": [
    "# showing that data is stored as a numpy array \n",
    "type(wine.values[0])"
   ]
  },
  {
   "cell_type": "markdown",
   "metadata": {},
   "source": [
    "## Initial Data Exploration with Pandas\n",
    "### Selecting Data\n",
    "Anyone who knows SQL knows how important it is to be able to select particular columns or rows.\n",
    "In Pandas, there are a lot of different ways to select.\n",
    "\n",
    "### Selecting by column name\n",
    "2 NOT RECOMMENDED ways:\n",
    "- selecting with column name in quotes, directly in brackets \n",
    "- selecting with dot notation and column name (only works when column name has no spaces) \n",
    "\n",
    "Why are these not recommended? \n",
    "- not explicit (can be used to select rows OR columns, may cause issues: more about that [here](https://stackoverflow.com/questions/38886080/python-pandas-series-why-use-loc).)\n",
    "- returns a copy of a slice: can cause unwanted changes to the underlying data. More about this [here](https://realpython.com/pandas-settingwithcopywarning/)"
   ]
  },
  {
   "cell_type": "code",
   "execution_count": null,
   "metadata": {
    "scrolled": true
   },
   "outputs": [],
   "source": [
    "# 1. With quotes\n",
    "wine['country']"
   ]
  },
  {
   "cell_type": "code",
   "execution_count": null,
   "metadata": {
    "scrolled": true
   },
   "outputs": [],
   "source": [
    "# 2. With period (NOTE - ONLY works when column names have no spaces!)\n",
    "wine.country"
   ]
  },
  {
   "cell_type": "markdown",
   "metadata": {},
   "source": [
    "## Slicing - Precise Selection by Row and Column (Recommended)\n",
    "- `df.loc` gets rows (or columns) with particular labels from the index.\n",
    "- `df.iloc` gets rows (or columns) at particular positions in the index (so it only takes integers).\n",
    "\n",
    "\n",
    "**When using `loc` and `iloc`, the row is ALWAYS 1st and column is ALWAYS second!! **\n",
    "\n",
    "**[row:row, column:column]**\n",
    "\n",
    "Notice how each defaults if you leave one side blank."
   ]
  },
  {
   "cell_type": "code",
   "execution_count": null,
   "metadata": {},
   "outputs": [],
   "source": [
    "# selecting up to index = 5\n",
    "wine.loc[:5]"
   ]
  },
  {
   "cell_type": "code",
   "execution_count": null,
   "metadata": {},
   "outputs": [],
   "source": [
    "# selecting first 5 positionally (note that selection only goes up to index number 4)\n",
    "wine.iloc[:5]"
   ]
  },
  {
   "cell_type": "code",
   "execution_count": null,
   "metadata": {},
   "outputs": [],
   "source": [
    "# selecting first 5 rows AND columns positionally \n",
    "wine.iloc[:5, :5]"
   ]
  },
  {
   "cell_type": "markdown",
   "metadata": {},
   "source": [
    "**Question**: What happens it we try to do this with `.loc`?"
   ]
  },
  {
   "cell_type": "code",
   "execution_count": null,
   "metadata": {},
   "outputs": [],
   "source": []
  },
  {
   "cell_type": "markdown",
   "metadata": {},
   "source": [
    "Selecting all rows in the column `price` with loc"
   ]
  },
  {
   "cell_type": "code",
   "execution_count": null,
   "metadata": {},
   "outputs": [],
   "source": [
    "wine.loc[:, 'price']"
   ]
  },
  {
   "cell_type": "markdown",
   "metadata": {},
   "source": [
    "We can also chain together functions (commands) in Pandas:"
   ]
  },
  {
   "cell_type": "code",
   "execution_count": null,
   "metadata": {},
   "outputs": [],
   "source": [
    "wine.loc[:, 'price'].describe()"
   ]
  },
  {
   "cell_type": "markdown",
   "metadata": {},
   "source": [
    "To confirm our understanding of how `.loc` and `.iloc` are different, we will change the index."
   ]
  },
  {
   "cell_type": "code",
   "execution_count": 31,
   "metadata": {
    "tags": []
   },
   "outputs": [],
   "source": [
    "import random"
   ]
  },
  {
   "cell_type": "code",
   "execution_count": 32,
   "metadata": {
    "tags": []
   },
   "outputs": [],
   "source": [
    "# making a new dataframe where the index is a random scramble of the original index\n",
    "random_index = random.sample(list(wine.index), k=len(list(wine.index)))\n",
    "wine.loc[:, 'scrambled_index'] = random_index\n",
    "scrambled_wine = wine.set_index('scrambled_index')"
   ]
  },
  {
   "cell_type": "code",
   "execution_count": null,
   "metadata": {},
   "outputs": [],
   "source": [
    "# returns all rows up to the 5th position.\n",
    "scrambled_wine.iloc[:5]"
   ]
  },
  {
   "cell_type": "code",
   "execution_count": null,
   "metadata": {},
   "outputs": [],
   "source": [
    "# returns all rows up to where #5 is in the index. Since we scrambled it, this is no longer in the 5th position.\n",
    "scrambled_wine.loc[:5]"
   ]
  },
  {
   "cell_type": "markdown",
   "metadata": {},
   "source": [
    "Including columns:"
   ]
  },
  {
   "cell_type": "code",
   "execution_count": null,
   "metadata": {},
   "outputs": [],
   "source": [
    "scrambled_wine.iloc[:5, :5]"
   ]
  },
  {
   "cell_type": "markdown",
   "metadata": {},
   "source": [
    "## Exercise:\n",
    "Select the first 5 rows and columns \"points\" and \"region_1\" of the *scrambled_wine* table.\n",
    "Hint: you'll need to string together 2 different types of selectors."
   ]
  },
  {
   "cell_type": "code",
   "execution_count": null,
   "metadata": {},
   "outputs": [],
   "source": []
  },
  {
   "cell_type": "markdown",
   "metadata": {},
   "source": [
    "## Pandas + Matplotlib\n",
    "\n",
    "Matplotlib is a library famous for having multiple ways to do one thing - partly due to its heritage that goes back to MATLAB.\n",
    "\n",
    "Below is one way to use matplotlib with pandas, that allows you to plot multiple axes on a single figure.  "
   ]
  },
  {
   "cell_type": "code",
   "execution_count": null,
   "metadata": {},
   "outputs": [],
   "source": [
    "import matplotlib.pyplot as plt\n",
    "\n",
    "%matplotlib inline\n",
    "\n",
    "fig, axes = plt.subplots(2)\n",
    "\n",
    "wine.iloc[:1000, :].loc[:, 'price'].plot(ax=axes[0])\n",
    "\n",
    "wine.iloc[:1000, :].loc[:, 'points'].plot(ax=axes[1], kind='hist')"
   ]
  }
 ],
 "metadata": {
  "kernelspec": {
   "display_name": "python-classes",
   "language": "python",
   "name": "python3"
  },
  "language_info": {
   "codemirror_mode": {
    "name": "ipython",
    "version": 3
   },
   "file_extension": ".py",
   "mimetype": "text/x-python",
   "name": "python",
   "nbconvert_exporter": "python",
   "pygments_lexer": "ipython3",
   "version": "3.11.0"
  },
  "vscode": {
   "interpreter": {
    "hash": "33e49de180f7b68adbe0b8c3da4cce2849e5189a09c8fdb059671b22301aa1fe"
   }
  }
 },
 "nbformat": 4,
 "nbformat_minor": 4
}
