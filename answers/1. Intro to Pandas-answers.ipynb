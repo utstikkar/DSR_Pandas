{
 "cells": [
  {
   "attachments": {},
   "cell_type": "markdown",
   "metadata": {},
   "source": [
    "# What is Pandas?"
   ]
  },
  {
   "cell_type": "code",
   "execution_count": 4,
   "metadata": {
    "tags": []
   },
   "outputs": [],
   "source": [
    "import pandas as pd\n",
    "wine = pd.read_csv('../data/wine_reviews/winemag-data_first150k.csv', index_col=0)"
   ]
  },
  {
   "cell_type": "code",
   "execution_count": 6,
   "metadata": {
    "tags": []
   },
   "outputs": [],
   "source": [
    "import random\n",
    "# making a new dataframe where the index is a random scramble of the original index\n",
    "random_index = random.sample(list(wine.index), k=len(list(wine.index)))\n",
    "wine.loc[:, 'scrambled_index'] = random_index\n",
    "scrambled_wine = wine.set_index('scrambled_index')"
   ]
  },
  {
   "cell_type": "markdown",
   "metadata": {},
   "source": [
    "## Exercise:\n",
    "Select the first 5 rows and columns \"points\" and \"region_1\" of the *scrambled_wine* table.\n",
    "Hint: you'll need to string together 2 different types of selectors."
   ]
  },
  {
   "cell_type": "code",
   "execution_count": 8,
   "metadata": {},
   "outputs": [
    {
     "data": {
      "text/html": [
       "<div>\n",
       "<style scoped>\n",
       "    .dataframe tbody tr th:only-of-type {\n",
       "        vertical-align: middle;\n",
       "    }\n",
       "\n",
       "    .dataframe tbody tr th {\n",
       "        vertical-align: top;\n",
       "    }\n",
       "\n",
       "    .dataframe thead th {\n",
       "        text-align: right;\n",
       "    }\n",
       "</style>\n",
       "<table border=\"1\" class=\"dataframe\">\n",
       "  <thead>\n",
       "    <tr style=\"text-align: right;\">\n",
       "      <th></th>\n",
       "      <th>points</th>\n",
       "      <th>region_1</th>\n",
       "    </tr>\n",
       "    <tr>\n",
       "      <th>scrambled_index</th>\n",
       "      <th></th>\n",
       "      <th></th>\n",
       "    </tr>\n",
       "  </thead>\n",
       "  <tbody>\n",
       "    <tr>\n",
       "      <th>13808</th>\n",
       "      <td>96</td>\n",
       "      <td>Napa Valley</td>\n",
       "    </tr>\n",
       "    <tr>\n",
       "      <th>19884</th>\n",
       "      <td>96</td>\n",
       "      <td>Toro</td>\n",
       "    </tr>\n",
       "    <tr>\n",
       "      <th>21737</th>\n",
       "      <td>96</td>\n",
       "      <td>Knights Valley</td>\n",
       "    </tr>\n",
       "    <tr>\n",
       "      <th>33564</th>\n",
       "      <td>96</td>\n",
       "      <td>Willamette Valley</td>\n",
       "    </tr>\n",
       "    <tr>\n",
       "      <th>5672</th>\n",
       "      <td>95</td>\n",
       "      <td>Bandol</td>\n",
       "    </tr>\n",
       "  </tbody>\n",
       "</table>\n",
       "</div>"
      ],
      "text/plain": [
       "                 points           region_1\n",
       "scrambled_index                           \n",
       "13808                96        Napa Valley\n",
       "19884                96               Toro\n",
       "21737                96     Knights Valley\n",
       "33564                96  Willamette Valley\n",
       "5672                 95             Bandol"
      ]
     },
     "execution_count": 8,
     "metadata": {},
     "output_type": "execute_result"
    }
   ],
   "source": [
    "# answer 1\n",
    "scrambled_wine.loc[:, [\"points\", \"region_1\"]].head()"
   ]
  },
  {
   "cell_type": "code",
   "execution_count": 9,
   "metadata": {},
   "outputs": [
    {
     "data": {
      "text/html": [
       "<div>\n",
       "<style scoped>\n",
       "    .dataframe tbody tr th:only-of-type {\n",
       "        vertical-align: middle;\n",
       "    }\n",
       "\n",
       "    .dataframe tbody tr th {\n",
       "        vertical-align: top;\n",
       "    }\n",
       "\n",
       "    .dataframe thead th {\n",
       "        text-align: right;\n",
       "    }\n",
       "</style>\n",
       "<table border=\"1\" class=\"dataframe\">\n",
       "  <thead>\n",
       "    <tr style=\"text-align: right;\">\n",
       "      <th></th>\n",
       "      <th>points</th>\n",
       "      <th>region_1</th>\n",
       "    </tr>\n",
       "    <tr>\n",
       "      <th>scrambled_index</th>\n",
       "      <th></th>\n",
       "      <th></th>\n",
       "    </tr>\n",
       "  </thead>\n",
       "  <tbody>\n",
       "    <tr>\n",
       "      <th>13808</th>\n",
       "      <td>96</td>\n",
       "      <td>Napa Valley</td>\n",
       "    </tr>\n",
       "    <tr>\n",
       "      <th>19884</th>\n",
       "      <td>96</td>\n",
       "      <td>Toro</td>\n",
       "    </tr>\n",
       "    <tr>\n",
       "      <th>21737</th>\n",
       "      <td>96</td>\n",
       "      <td>Knights Valley</td>\n",
       "    </tr>\n",
       "    <tr>\n",
       "      <th>33564</th>\n",
       "      <td>96</td>\n",
       "      <td>Willamette Valley</td>\n",
       "    </tr>\n",
       "    <tr>\n",
       "      <th>5672</th>\n",
       "      <td>95</td>\n",
       "      <td>Bandol</td>\n",
       "    </tr>\n",
       "  </tbody>\n",
       "</table>\n",
       "</div>"
      ],
      "text/plain": [
       "                 points           region_1\n",
       "scrambled_index                           \n",
       "13808                96        Napa Valley\n",
       "19884                96               Toro\n",
       "21737                96     Knights Valley\n",
       "33564                96  Willamette Valley\n",
       "5672                 95             Bandol"
      ]
     },
     "execution_count": 9,
     "metadata": {},
     "output_type": "execute_result"
    }
   ],
   "source": [
    "# answer 2\n",
    "scrambled_wine.loc[:, [\"points\", \"region_1\"]].iloc[:5]"
   ]
  }
 ],
 "metadata": {
  "kernelspec": {
   "display_name": "python-classes",
   "language": "python",
   "name": "python3"
  },
  "language_info": {
   "codemirror_mode": {
    "name": "ipython",
    "version": 3
   },
   "file_extension": ".py",
   "mimetype": "text/x-python",
   "name": "python",
   "nbconvert_exporter": "python",
   "pygments_lexer": "ipython3",
   "version": "3.11.0"
  },
  "vscode": {
   "interpreter": {
    "hash": "33e49de180f7b68adbe0b8c3da4cce2849e5189a09c8fdb059671b22301aa1fe"
   }
  }
 },
 "nbformat": 4,
 "nbformat_minor": 4
}
