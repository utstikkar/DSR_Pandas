{
 "cells": [
  {
   "cell_type": "markdown",
   "metadata": {},
   "source": [
    "# Real-World Data Example\n",
    "\n",
    "Here, we look at a new dataset and try to answer some questions about it."
   ]
  },
  {
   "cell_type": "code",
   "execution_count": 1,
   "metadata": {},
   "outputs": [],
   "source": [
    "import pandas as pd"
   ]
  },
  {
   "cell_type": "code",
   "execution_count": 3,
   "metadata": {},
   "outputs": [],
   "source": [
    "df = pd.read_csv('../data/iowa_liquor/Iowa_Liquor_Sales.csv', index_col=0)"
   ]
  },
  {
   "cell_type": "code",
   "execution_count": 4,
   "metadata": {
    "collapsed": true,
    "jupyter": {
     "outputs_hidden": true
    }
   },
   "outputs": [
    {
     "data": {
      "text/html": [
       "<div>\n",
       "<style scoped>\n",
       "    .dataframe tbody tr th:only-of-type {\n",
       "        vertical-align: middle;\n",
       "    }\n",
       "\n",
       "    .dataframe tbody tr th {\n",
       "        vertical-align: top;\n",
       "    }\n",
       "\n",
       "    .dataframe thead th {\n",
       "        text-align: right;\n",
       "    }\n",
       "</style>\n",
       "<table border=\"1\" class=\"dataframe\">\n",
       "  <thead>\n",
       "    <tr style=\"text-align: right;\">\n",
       "      <th></th>\n",
       "      <th>Invoice/Item Number</th>\n",
       "      <th>Date</th>\n",
       "      <th>Store Number</th>\n",
       "      <th>Store Name</th>\n",
       "      <th>Address</th>\n",
       "      <th>City</th>\n",
       "      <th>Zip Code</th>\n",
       "      <th>Store Location</th>\n",
       "      <th>County Number</th>\n",
       "      <th>County</th>\n",
       "      <th>...</th>\n",
       "      <th>Item Number</th>\n",
       "      <th>Item Description</th>\n",
       "      <th>Pack</th>\n",
       "      <th>Bottle Volume (ml)</th>\n",
       "      <th>State Bottle Cost</th>\n",
       "      <th>State Bottle Retail</th>\n",
       "      <th>Bottles Sold</th>\n",
       "      <th>Sale (Dollars)</th>\n",
       "      <th>Volume Sold (Liters)</th>\n",
       "      <th>Volume Sold (Gallons)</th>\n",
       "    </tr>\n",
       "  </thead>\n",
       "  <tbody>\n",
       "    <tr>\n",
       "      <th>0</th>\n",
       "      <td>S29198800001</td>\n",
       "      <td>11/20/2015</td>\n",
       "      <td>2191</td>\n",
       "      <td>Keokuk Spirits</td>\n",
       "      <td>1013 MAIN</td>\n",
       "      <td>KEOKUK</td>\n",
       "      <td>52632</td>\n",
       "      <td>1013 MAIN\\nKEOKUK 52632\\n(40.39978, -91.387531)</td>\n",
       "      <td>56.0</td>\n",
       "      <td>Lee</td>\n",
       "      <td>...</td>\n",
       "      <td>297</td>\n",
       "      <td>Templeton Rye w/Flask</td>\n",
       "      <td>6</td>\n",
       "      <td>750</td>\n",
       "      <td>$18.09</td>\n",
       "      <td>$27.14</td>\n",
       "      <td>6</td>\n",
       "      <td>$162.84</td>\n",
       "      <td>4.50</td>\n",
       "      <td>1.19</td>\n",
       "    </tr>\n",
       "    <tr>\n",
       "      <th>1</th>\n",
       "      <td>S29195400002</td>\n",
       "      <td>11/21/2015</td>\n",
       "      <td>2205</td>\n",
       "      <td>Ding's Honk And Holler</td>\n",
       "      <td>900 E WASHINGTON</td>\n",
       "      <td>CLARINDA</td>\n",
       "      <td>51632</td>\n",
       "      <td>900 E WASHINGTON\\nCLARINDA 51632\\n(40.739238, ...</td>\n",
       "      <td>73.0</td>\n",
       "      <td>Page</td>\n",
       "      <td>...</td>\n",
       "      <td>297</td>\n",
       "      <td>Templeton Rye w/Flask</td>\n",
       "      <td>6</td>\n",
       "      <td>750</td>\n",
       "      <td>$18.09</td>\n",
       "      <td>$27.14</td>\n",
       "      <td>12</td>\n",
       "      <td>$325.68</td>\n",
       "      <td>9.00</td>\n",
       "      <td>2.38</td>\n",
       "    </tr>\n",
       "    <tr>\n",
       "      <th>2</th>\n",
       "      <td>S29050300001</td>\n",
       "      <td>11/16/2015</td>\n",
       "      <td>3549</td>\n",
       "      <td>Quicker Liquor Store</td>\n",
       "      <td>1414 48TH ST</td>\n",
       "      <td>FORT MADISON</td>\n",
       "      <td>52627</td>\n",
       "      <td>1414 48TH ST\\nFORT MADISON 52627\\n(40.624226, ...</td>\n",
       "      <td>56.0</td>\n",
       "      <td>Lee</td>\n",
       "      <td>...</td>\n",
       "      <td>249</td>\n",
       "      <td>Disaronno Amaretto Cavalli Mignon 3-50ml Pack</td>\n",
       "      <td>20</td>\n",
       "      <td>150</td>\n",
       "      <td>$6.40</td>\n",
       "      <td>$9.60</td>\n",
       "      <td>2</td>\n",
       "      <td>$19.20</td>\n",
       "      <td>0.30</td>\n",
       "      <td>0.08</td>\n",
       "    </tr>\n",
       "    <tr>\n",
       "      <th>3</th>\n",
       "      <td>S28867700001</td>\n",
       "      <td>11/04/2015</td>\n",
       "      <td>2513</td>\n",
       "      <td>Hy-Vee Food Store #2 / Iowa City</td>\n",
       "      <td>812  S 1ST AVE</td>\n",
       "      <td>IOWA CITY</td>\n",
       "      <td>52240</td>\n",
       "      <td>812 S 1ST AVE\\nIOWA CITY 52240\\n</td>\n",
       "      <td>52.0</td>\n",
       "      <td>Johnson</td>\n",
       "      <td>...</td>\n",
       "      <td>237</td>\n",
       "      <td>Knob Creek w/ Crystal Decanter</td>\n",
       "      <td>3</td>\n",
       "      <td>1750</td>\n",
       "      <td>$35.55</td>\n",
       "      <td>$53.34</td>\n",
       "      <td>3</td>\n",
       "      <td>$160.02</td>\n",
       "      <td>5.25</td>\n",
       "      <td>1.39</td>\n",
       "    </tr>\n",
       "    <tr>\n",
       "      <th>4</th>\n",
       "      <td>S29050800001</td>\n",
       "      <td>11/17/2015</td>\n",
       "      <td>3942</td>\n",
       "      <td>Twin Town Liquor</td>\n",
       "      <td>104 HIGHWAY 30 WEST</td>\n",
       "      <td>TOLEDO</td>\n",
       "      <td>52342</td>\n",
       "      <td>104 HIGHWAY 30 WEST\\nTOLEDO 52342\\n(41.985887,...</td>\n",
       "      <td>86.0</td>\n",
       "      <td>Tama</td>\n",
       "      <td>...</td>\n",
       "      <td>249</td>\n",
       "      <td>Disaronno Amaretto Cavalli Mignon 3-50ml Pack</td>\n",
       "      <td>20</td>\n",
       "      <td>150</td>\n",
       "      <td>$6.40</td>\n",
       "      <td>$9.60</td>\n",
       "      <td>2</td>\n",
       "      <td>$19.20</td>\n",
       "      <td>0.30</td>\n",
       "      <td>0.08</td>\n",
       "    </tr>\n",
       "  </tbody>\n",
       "</table>\n",
       "<p>5 rows × 24 columns</p>\n",
       "</div>"
      ],
      "text/plain": [
       "  Invoice/Item Number        Date  Store Number  \\\n",
       "0        S29198800001  11/20/2015          2191   \n",
       "1        S29195400002  11/21/2015          2205   \n",
       "2        S29050300001  11/16/2015          3549   \n",
       "3        S28867700001  11/04/2015          2513   \n",
       "4        S29050800001  11/17/2015          3942   \n",
       "\n",
       "                         Store Name              Address          City  \\\n",
       "0                    Keokuk Spirits            1013 MAIN        KEOKUK   \n",
       "1            Ding's Honk And Holler     900 E WASHINGTON      CLARINDA   \n",
       "2              Quicker Liquor Store         1414 48TH ST  FORT MADISON   \n",
       "3  Hy-Vee Food Store #2 / Iowa City       812  S 1ST AVE     IOWA CITY   \n",
       "4                  Twin Town Liquor  104 HIGHWAY 30 WEST        TOLEDO   \n",
       "\n",
       "  Zip Code                                     Store Location  County Number  \\\n",
       "0    52632    1013 MAIN\\nKEOKUK 52632\\n(40.39978, -91.387531)           56.0   \n",
       "1    51632  900 E WASHINGTON\\nCLARINDA 51632\\n(40.739238, ...           73.0   \n",
       "2    52627  1414 48TH ST\\nFORT MADISON 52627\\n(40.624226, ...           56.0   \n",
       "3    52240                   812 S 1ST AVE\\nIOWA CITY 52240\\n           52.0   \n",
       "4    52342  104 HIGHWAY 30 WEST\\nTOLEDO 52342\\n(41.985887,...           86.0   \n",
       "\n",
       "    County  ...  Item Number                               Item Description  \\\n",
       "0      Lee  ...          297                          Templeton Rye w/Flask   \n",
       "1     Page  ...          297                          Templeton Rye w/Flask   \n",
       "2      Lee  ...          249  Disaronno Amaretto Cavalli Mignon 3-50ml Pack   \n",
       "3  Johnson  ...          237                 Knob Creek w/ Crystal Decanter   \n",
       "4     Tama  ...          249  Disaronno Amaretto Cavalli Mignon 3-50ml Pack   \n",
       "\n",
       "   Pack Bottle Volume (ml)  State Bottle Cost State Bottle Retail  \\\n",
       "0     6                750             $18.09              $27.14   \n",
       "1     6                750             $18.09              $27.14   \n",
       "2    20                150              $6.40               $9.60   \n",
       "3     3               1750             $35.55              $53.34   \n",
       "4    20                150              $6.40               $9.60   \n",
       "\n",
       "   Bottles Sold  Sale (Dollars) Volume Sold (Liters) Volume Sold (Gallons)  \n",
       "0             6         $162.84                 4.50                  1.19  \n",
       "1            12         $325.68                 9.00                  2.38  \n",
       "2             2          $19.20                 0.30                  0.08  \n",
       "3             3         $160.02                 5.25                  1.39  \n",
       "4             2          $19.20                 0.30                  0.08  \n",
       "\n",
       "[5 rows x 24 columns]"
      ]
     },
     "execution_count": 4,
     "metadata": {},
     "output_type": "execute_result"
    }
   ],
   "source": [
    "df.head()"
   ]
  },
  {
   "cell_type": "code",
   "execution_count": 5,
   "metadata": {},
   "outputs": [
    {
     "data": {
      "text/plain": [
       "Invoice/Item Number       object\n",
       "Date                      object\n",
       "Store Number               int64\n",
       "Store Name                object\n",
       "Address                   object\n",
       "City                      object\n",
       "Zip Code                  object\n",
       "Store Location            object\n",
       "County Number            float64\n",
       "County                    object\n",
       "Category                 float64\n",
       "Category Name             object\n",
       "Vendor Number            float64\n",
       "Vendor Name               object\n",
       "Item Number                int64\n",
       "Item Description          object\n",
       "Pack                       int64\n",
       "Bottle Volume (ml)         int64\n",
       "State Bottle Cost         object\n",
       "State Bottle Retail       object\n",
       "Bottles Sold               int64\n",
       "Sale (Dollars)            object\n",
       "Volume Sold (Liters)     float64\n",
       "Volume Sold (Gallons)    float64\n",
       "dtype: object"
      ]
     },
     "execution_count": 5,
     "metadata": {},
     "output_type": "execute_result"
    }
   ],
   "source": [
    "df.dtypes"
   ]
  },
  {
   "cell_type": "markdown",
   "metadata": {},
   "source": [
    "## Data cleaning and preparation\n",
    "Before we can begin the analysis, we need to prepare our data. \n",
    "For our dataset here, this means making sure that any columns we need to use in calculations are in numeric format."
   ]
  },
  {
   "cell_type": "code",
   "execution_count": 6,
   "metadata": {},
   "outputs": [],
   "source": [
    "# removing dollar signs so that columns can be converted to numeric\n",
    "df = df.replace('\\$', '', regex=True)\n",
    "# removing commas in 1000s\n",
    "df = df.replace(',','', regex=True)"
   ]
  },
  {
   "cell_type": "code",
   "execution_count": 7,
   "metadata": {},
   "outputs": [
    {
     "name": "stderr",
     "output_type": "stream",
     "text": [
      "/var/folders/ly/xplb9t650k9cxqh9lfw7mq540000gn/T/ipykernel_29226/3396359805.py:5: FutureWarning: In a future version, `df.iloc[:, i] = newvals` will attempt to set the values inplace instead of always setting a new array. To retain the old behavior, use either `df[df.columns[i]] = newvals` or, if columns are non-unique, `df.isetitem(i, newvals)`\n",
      "  df.loc[:, column] = pd.to_numeric(df.loc[:, column])\n"
     ]
    }
   ],
   "source": [
    "# making list of columns to switch to numeric format\n",
    "columns_to_numeric = ['Sale (Dollars)', 'State Bottle Cost', 'State Bottle Retail']\n",
    "\n",
    "for column in columns_to_numeric:\n",
    "    df.loc[:, column] = pd.to_numeric(df.loc[:, column])"
   ]
  },
  {
   "cell_type": "markdown",
   "metadata": {},
   "source": [
    "## Analysis Questions\n",
    "Answer these questions using the pandas skills you've learned in the previous sections.\n",
    "Keep in mind that there are often many ways to arrive at the same answer."
   ]
  },
  {
   "cell_type": "markdown",
   "metadata": {},
   "source": [
    "1) Which store had the highest total dollars of sales?\n",
    "    - Is this the same store that had the highest volume (in liters) of alcohol sold?"
   ]
  },
  {
   "cell_type": "code",
   "execution_count": 8,
   "metadata": {},
   "outputs": [
    {
     "name": "stdout",
     "output_type": "stream",
     "text": [
      "Store with highest total dollar sales is: Hy-Vee #3 / BDI / Des Moines\n",
      "Store with highest volume in liters is: Hy-Vee #3 / BDI / Des Moines\n"
     ]
    },
    {
     "name": "stderr",
     "output_type": "stream",
     "text": [
      "/var/folders/ly/xplb9t650k9cxqh9lfw7mq540000gn/T/ipykernel_29226/2479892043.py:1: FutureWarning: The default value of numeric_only in DataFrameGroupBy.sum is deprecated. In a future version, numeric_only will default to False. Either specify numeric_only or select only columns which should be valid for the function.\n",
      "  store_sales = df.groupby('Store Name').sum()\n"
     ]
    }
   ],
   "source": [
    "store_sales = df.groupby('Store Name').sum()\n",
    "\n",
    "# finding highest by sale in dollars\n",
    "highest_sale_dollars = store_sales.loc[:, 'Sale (Dollars)'].idxmax()\n",
    "\n",
    "# finding highest by volume in liters \n",
    "highest_volume_liters = store_sales.loc[:, 'Volume Sold (Liters)'].idxmax()\n",
    "\n",
    "print('Store with highest total dollar sales is: {}'.format(highest_sale_dollars))\n",
    "print('Store with highest volume in liters is: {}'.format(highest_volume_liters))"
   ]
  },
  {
   "cell_type": "markdown",
   "metadata": {},
   "source": [
    "2) Which purchase (by Invoice Number) was the most expensive?\n",
    "- What was the total cost of the invoice? (Use Sale (Dollars) column)"
   ]
  },
  {
   "cell_type": "code",
   "execution_count": 9,
   "metadata": {},
   "outputs": [
    {
     "name": "stderr",
     "output_type": "stream",
     "text": [
      "/var/folders/ly/xplb9t650k9cxqh9lfw7mq540000gn/T/ipykernel_29226/3112783510.py:1: FutureWarning: The default value of numeric_only in DataFrameGroupBy.sum is deprecated. In a future version, numeric_only will default to False. Either specify numeric_only or select only columns which should be valid for the function.\n",
      "  purchases = df.groupby('Invoice/Item Number').sum()\n"
     ]
    },
    {
     "data": {
      "text/plain": [
       "'S24494900001'"
      ]
     },
     "execution_count": 9,
     "metadata": {},
     "output_type": "execute_result"
    }
   ],
   "source": [
    "purchases = df.groupby('Invoice/Item Number').sum()\n",
    "purchases.loc[:,'Sale (Dollars)'].idxmax()"
   ]
  },
  {
   "cell_type": "code",
   "execution_count": 10,
   "metadata": {},
   "outputs": [
    {
     "data": {
      "text/plain": [
       "41042.64"
      ]
     },
     "execution_count": 10,
     "metadata": {},
     "output_type": "execute_result"
    }
   ],
   "source": [
    "purchases.loc[:,'Sale (Dollars)'].max()"
   ]
  },
  {
   "cell_type": "markdown",
   "metadata": {},
   "source": [
    "3) What is the most expensive item? Use the average 'State Bottle Retail' to find this.\n",
    "- How much does the bottle cost, on average?"
   ]
  },
  {
   "cell_type": "code",
   "execution_count": 11,
   "metadata": {},
   "outputs": [
    {
     "name": "stderr",
     "output_type": "stream",
     "text": [
      "/var/folders/ly/xplb9t650k9cxqh9lfw7mq540000gn/T/ipykernel_29226/3724941270.py:1: FutureWarning: The default value of numeric_only in DataFrameGroupBy.mean is deprecated. In a future version, numeric_only will default to False. Either specify numeric_only or select only columns which should be valid for the function.\n",
      "  bottles = df.groupby('Item Description').mean()\n"
     ]
    },
    {
     "data": {
      "text/plain": [
       "'Macallan Sherry Cask 25 Year Old Scotch - HA'"
      ]
     },
     "execution_count": 11,
     "metadata": {},
     "output_type": "execute_result"
    }
   ],
   "source": [
    "bottles = df.groupby('Item Description').mean()\n",
    "bottles.loc[:, 'State Bottle Retail'].idxmax()"
   ]
  },
  {
   "cell_type": "code",
   "execution_count": 12,
   "metadata": {},
   "outputs": [
    {
     "data": {
      "text/plain": [
       "845.1"
      ]
     },
     "execution_count": 12,
     "metadata": {},
     "output_type": "execute_result"
    }
   ],
   "source": [
    "bottles.loc[:, 'State Bottle Retail'].max()"
   ]
  },
  {
   "cell_type": "markdown",
   "metadata": {},
   "source": [
    "4) What is the most commonly sold item?"
   ]
  },
  {
   "cell_type": "code",
   "execution_count": 13,
   "metadata": {},
   "outputs": [
    {
     "data": {
      "text/plain": [
       "'Black Velvet'"
      ]
     },
     "execution_count": 13,
     "metadata": {},
     "output_type": "execute_result"
    }
   ],
   "source": [
    "bottles = df.groupby('Item Description').count()\n",
    "bottles.loc[:,'Invoice/Item Number'].idxmax()"
   ]
  },
  {
   "cell_type": "markdown",
   "metadata": {},
   "source": [
    "5) What day in 2015 was the most money made? (Across all stores)"
   ]
  },
  {
   "cell_type": "code",
   "execution_count": 14,
   "metadata": {},
   "outputs": [
    {
     "name": "stderr",
     "output_type": "stream",
     "text": [
      "/var/folders/ly/xplb9t650k9cxqh9lfw7mq540000gn/T/ipykernel_29226/1247694803.py:1: FutureWarning: In a future version, `df.iloc[:, i] = newvals` will attempt to set the values inplace instead of always setting a new array. To retain the old behavior, use either `df[df.columns[i]] = newvals` or, if columns are non-unique, `df.isetitem(i, newvals)`\n",
      "  df.loc[:, 'Date'] = pd.to_datetime(df.loc[:, 'Date'])\n"
     ]
    }
   ],
   "source": [
    "df.loc[:, 'Date'] = pd.to_datetime(df.loc[:, 'Date'])"
   ]
  },
  {
   "cell_type": "code",
   "execution_count": 15,
   "metadata": {},
   "outputs": [],
   "source": [
    "year_2015_df = df.loc[df['Date'].dt.year == 2015]"
   ]
  },
  {
   "cell_type": "code",
   "execution_count": 16,
   "metadata": {},
   "outputs": [
    {
     "name": "stderr",
     "output_type": "stream",
     "text": [
      "/var/folders/ly/xplb9t650k9cxqh9lfw7mq540000gn/T/ipykernel_29226/3158372686.py:1: FutureWarning: The default value of numeric_only in DataFrameGroupBy.sum is deprecated. In a future version, numeric_only will default to False. Either specify numeric_only or select only columns which should be valid for the function.\n",
      "  days_2015_totals = year_2015_df.groupby('Date').sum()\n"
     ]
    },
    {
     "data": {
      "text/plain": [
       "Timestamp('2015-03-16 00:00:00')"
      ]
     },
     "execution_count": 16,
     "metadata": {},
     "output_type": "execute_result"
    }
   ],
   "source": [
    "days_2015_totals = year_2015_df.groupby('Date').sum()\n",
    "days_2015_totals.loc[:, 'Sale (Dollars)'].idxmax()"
   ]
  },
  {
   "cell_type": "markdown",
   "metadata": {},
   "source": [
    "6) Which zip code drinks the most? (in liters)"
   ]
  },
  {
   "cell_type": "code",
   "execution_count": 17,
   "metadata": {},
   "outputs": [
    {
     "name": "stderr",
     "output_type": "stream",
     "text": [
      "/var/folders/ly/xplb9t650k9cxqh9lfw7mq540000gn/T/ipykernel_29226/230791174.py:1: FutureWarning: The default value of numeric_only in DataFrameGroupBy.sum is deprecated. In a future version, numeric_only will default to False. Either specify numeric_only or select only columns which should be valid for the function.\n",
      "  zipcode_totals = df.groupby('Zip Code').sum()\n"
     ]
    },
    {
     "data": {
      "text/plain": [
       "'52402'"
      ]
     },
     "execution_count": 17,
     "metadata": {},
     "output_type": "execute_result"
    }
   ],
   "source": [
    "zipcode_totals = df.groupby('Zip Code').sum()\n",
    "zipcode_totals.loc[:, 'Volume Sold (Liters)'].idxmax()"
   ]
  },
  {
   "cell_type": "markdown",
   "metadata": {},
   "source": [
    "7) Does the data set contain any null values?"
   ]
  },
  {
   "cell_type": "code",
   "execution_count": 18,
   "metadata": {},
   "outputs": [
    {
     "data": {
      "text/plain": [
       "True"
      ]
     },
     "execution_count": 18,
     "metadata": {},
     "output_type": "execute_result"
    }
   ],
   "source": [
    "df.isnull().any().any()"
   ]
  },
  {
   "cell_type": "markdown",
   "metadata": {},
   "source": [
    "8) What is the average state bottle cost?\n",
    "    - Max cost?\n",
    "    - Min cost?\n",
    "    - 50%?"
   ]
  },
  {
   "cell_type": "code",
   "execution_count": 19,
   "metadata": {},
   "outputs": [
    {
     "data": {
      "text/plain": [
       "count    100000.000000\n",
       "mean          9.455181\n",
       "std           6.787500\n",
       "min           0.000000\n",
       "25%           5.490000\n",
       "50%           7.870000\n",
       "75%          11.540000\n",
       "max         563.400000\n",
       "Name: State Bottle Cost, dtype: float64"
      ]
     },
     "execution_count": 19,
     "metadata": {},
     "output_type": "execute_result"
    }
   ],
   "source": [
    "df.loc[:, 'State Bottle Cost'].describe()"
   ]
  },
  {
   "cell_type": "markdown",
   "metadata": {},
   "source": [
    "9) What is the total volume sold in Iowa City in 2013?"
   ]
  },
  {
   "cell_type": "code",
   "execution_count": 20,
   "metadata": {},
   "outputs": [
    {
     "data": {
      "text/plain": [
       "9063.01"
      ]
     },
     "execution_count": 20,
     "metadata": {},
     "output_type": "execute_result"
    }
   ],
   "source": [
    "year_2013_iowa_city = df.loc[(df['Date'].dt.year == 2013) & (df['City'] == 'IOWA CITY')]\n",
    "year_2013_iowa_city.loc[:, 'Volume Sold (Liters)'].sum()"
   ]
  },
  {
   "cell_type": "markdown",
   "metadata": {},
   "source": [
    "10) Which month (average, across all years) sees the highest sales?"
   ]
  },
  {
   "cell_type": "code",
   "execution_count": 21,
   "metadata": {},
   "outputs": [
    {
     "name": "stderr",
     "output_type": "stream",
     "text": [
      "/var/folders/ly/xplb9t650k9cxqh9lfw7mq540000gn/T/ipykernel_29226/2272015896.py:1: FutureWarning: The default value of numeric_only in DataFrameGroupBy.mean is deprecated. In a future version, numeric_only will default to False. Either specify numeric_only or select only columns which should be valid for the function.\n",
      "  months = df.groupby(df['Date'].dt.month).mean()\n"
     ]
    },
    {
     "data": {
      "text/plain": [
       "10"
      ]
     },
     "execution_count": 21,
     "metadata": {},
     "output_type": "execute_result"
    }
   ],
   "source": [
    "months = df.groupby(df['Date'].dt.month).mean()\n",
    "months.loc[:, 'Sale (Dollars)'].idxmax()"
   ]
  },
  {
   "cell_type": "markdown",
   "metadata": {},
   "source": [
    "12) What is the most popular item (most bottles sold) at Wilkie Liquors?"
   ]
  },
  {
   "cell_type": "code",
   "execution_count": 22,
   "metadata": {},
   "outputs": [
    {
     "name": "stderr",
     "output_type": "stream",
     "text": [
      "/var/folders/ly/xplb9t650k9cxqh9lfw7mq540000gn/T/ipykernel_29226/3254748431.py:2: FutureWarning: The default value of numeric_only in DataFrameGroupBy.sum is deprecated. In a future version, numeric_only will default to False. Either specify numeric_only or select only columns which should be valid for the function.\n",
      "  wilkie_items = wilkie.groupby('Item Description').sum()\n"
     ]
    },
    {
     "data": {
      "text/plain": [
       "'Juarez Gold Dss'"
      ]
     },
     "execution_count": 22,
     "metadata": {},
     "output_type": "execute_result"
    }
   ],
   "source": [
    "wilkie = df.loc[df['Store Name'] == 'Wilkie Liquors']\n",
    "wilkie_items = wilkie.groupby('Item Description').sum()\n",
    "wilkie_items.loc[:, 'Bottles Sold'].idxmax()"
   ]
  },
  {
   "cell_type": "markdown",
   "metadata": {},
   "source": [
    "13) From which item does Wilkie Liquors earn the most of its revenue?"
   ]
  },
  {
   "cell_type": "code",
   "execution_count": 23,
   "metadata": {},
   "outputs": [
    {
     "data": {
      "text/plain": [
       "'Juarez Gold Dss'"
      ]
     },
     "execution_count": 23,
     "metadata": {},
     "output_type": "execute_result"
    }
   ],
   "source": [
    "wilkie_items.loc[:, 'Sale (Dollars)'].idxmax()"
   ]
  },
  {
   "cell_type": "markdown",
   "metadata": {},
   "source": [
    "14) What was the most expensive bottle sold in Des Moines in 2012?\n",
    "- How much did it cost?"
   ]
  },
  {
   "cell_type": "code",
   "execution_count": 24,
   "metadata": {},
   "outputs": [
    {
     "data": {
      "text/plain": [
       "'Johnnie Walker Blue'"
      ]
     },
     "execution_count": 24,
     "metadata": {},
     "output_type": "execute_result"
    }
   ],
   "source": [
    "year_2012_des_moines = df.loc[(df['Date'].dt.year == 2012) & (df['City'] == 'DES MOINES')]\n",
    "year_2012_des_moines_bottles = year_2012_des_moines.groupby('Item Description').max()\n",
    "year_2012_des_moines_bottles.loc[:, 'State Bottle Retail'].idxmax()"
   ]
  },
  {
   "cell_type": "code",
   "execution_count": 25,
   "metadata": {},
   "outputs": [
    {
     "data": {
      "text/plain": [
       "193.49"
      ]
     },
     "execution_count": 25,
     "metadata": {},
     "output_type": "execute_result"
    }
   ],
   "source": [
    "year_2012_des_moines_bottles.loc[:, 'State Bottle Retail'].max()"
   ]
  },
  {
   "cell_type": "markdown",
   "metadata": {},
   "source": [
    "15) Which store sold the most bottles of liquor in the city of Des Moines? (Over the entire time period for which we have data)"
   ]
  },
  {
   "cell_type": "code",
   "execution_count": 26,
   "metadata": {},
   "outputs": [
    {
     "name": "stderr",
     "output_type": "stream",
     "text": [
      "/var/folders/ly/xplb9t650k9cxqh9lfw7mq540000gn/T/ipykernel_29226/3277741107.py:2: FutureWarning: The default value of numeric_only in DataFrameGroupBy.sum is deprecated. In a future version, numeric_only will default to False. Either specify numeric_only or select only columns which should be valid for the function.\n",
      "  des_moines_stores = des_moines_total.groupby('Store Name').sum()\n"
     ]
    },
    {
     "data": {
      "text/plain": [
       "'Hy-Vee #3 / BDI / Des Moines'"
      ]
     },
     "execution_count": 26,
     "metadata": {},
     "output_type": "execute_result"
    }
   ],
   "source": [
    "des_moines_total = df.loc[(df['City'] == 'DES MOINES')]\n",
    "des_moines_stores = des_moines_total.groupby('Store Name').sum()\n",
    "des_moines_stores.loc[:, 'Bottles Sold'].idxmax()"
   ]
  },
  {
   "cell_type": "markdown",
   "metadata": {},
   "source": [
    "16) Make a plot about at least one of these questions:"
   ]
  },
  {
   "cell_type": "code",
   "execution_count": 27,
   "metadata": {},
   "outputs": [],
   "source": [
    "import matplotlib.pyplot as plt "
   ]
  },
  {
   "cell_type": "code",
   "execution_count": 28,
   "metadata": {},
   "outputs": [
    {
     "name": "stderr",
     "output_type": "stream",
     "text": [
      "/var/folders/ly/xplb9t650k9cxqh9lfw7mq540000gn/T/ipykernel_29226/1411967078.py:5: FutureWarning: The default value of numeric_only in DataFrameGroupBy.mean is deprecated. In a future version, numeric_only will default to False. Either specify numeric_only or select only columns which should be valid for the function.\n",
      "  bottles = df.groupby('Item Description').mean()\n",
      "/var/folders/ly/xplb9t650k9cxqh9lfw7mq540000gn/T/ipykernel_29226/1411967078.py:18: UserWarning: Matplotlib is currently using module://matplotlib_inline.backend_inline, which is a non-GUI backend, so cannot show the figure.\n",
      "  fig.show();\n"
     ]
    },
    {
     "data": {
      "image/png": "[encoded data removed]",
      "text/plain": [
       "<Figure size 1500x500 with 1 Axes>"
      ]
     },
     "metadata": {},
     "output_type": "display_data"
    }
   ],
   "source": [
    "# example graph from Question #3:\n",
    "\n",
    "# making sample dataset to plot\n",
    "fig, ax = plt.subplots(1,1, figsize=(15,5))\n",
    "bottles = df.groupby('Item Description').mean()\n",
    "to_plot = pd.DataFrame(bottles.loc[:, 'State Bottle Retail'].sort_values(ascending=False))\n",
    "\n",
    "plot = to_plot.loc[:, 'State Bottle Retail'].head(10).plot(ax=ax, color='dimgrey', kind='bar')\n",
    "\n",
    "# Add some text for labels, title and custom x-axis tick labels, etc.\n",
    "plot.set_ylabel('Price ($)', fontsize=14)\n",
    "plot.set_xlabel('Bottle Name', fontsize=14)\n",
    "plot.yaxis.labelpad = 10\n",
    "plot.xaxis.labelpad = -10\n",
    "ax.set_title('Average State Bottle Costs - Top 10 Most Expensive', fontsize=18)\n",
    "ax.set_xticklabels(to_plot.loc[:, 'State Bottle Retail'].head(10).index, rotation=45, ha='right')\n",
    "\n",
    "fig.show();"
   ]
  }
 ],
 "metadata": {
  "kernelspec": {
   "display_name": "python-classes",
   "language": "python",
   "name": "python3"
  },
  "language_info": {
   "codemirror_mode": {
    "name": "ipython",
    "version": 3
   },
   "file_extension": ".py",
   "mimetype": "text/x-python",
   "name": "python",
   "nbconvert_exporter": "python",
   "pygments_lexer": "ipython3",
   "version": "3.11.0"
  },
  "vscode": {
   "interpreter": {
    "hash": "33e49de180f7b68adbe0b8c3da4cce2849e5189a09c8fdb059671b22301aa1fe"
   }
  }
 },
 "nbformat": 4,
 "nbformat_minor": 4
}
